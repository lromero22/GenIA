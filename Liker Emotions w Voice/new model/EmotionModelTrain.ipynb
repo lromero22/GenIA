{
  "nbformat": 4,
  "nbformat_minor": 0,
  "metadata": {
    "colab": {
      "provenance": []
    },
    "kernelspec": {
      "name": "python3",
      "display_name": "Python 3"
    },
    "language_info": {
      "name": "python"
    }
  },
  "cells": [
    {
      "cell_type": "code",
      "source": [
        "!unzip /content/RAVDESS_dataset -d /content/RAVDESS_dataset/"
      ],
      "metadata": {
        "id": "aQ4ZVyk49FTl"
      },
      "execution_count": null,
      "outputs": []
    },
    {
      "cell_type": "code",
      "source": [
        "!pip install audiomentations"
      ],
      "metadata": {
        "id": "ma4qq2Vn45y_"
      },
      "execution_count": 2,
      "outputs": []
    },
    {
      "cell_type": "code",
      "metadata": {
        "id": "4CKPHhxqoeid"
      },
      "source": [
        "# OS BASED PATH\n",
        "# base = Path(__file__).resolve().parent\n",
        "# Notebook Path\n",
        "import librosa\n",
        "import soundfile\n",
        "import os\n",
        "import glob\n",
        "import pickle\n",
        "import numpy as np\n",
        "from sklearn.model_selection import train_test_split\n",
        "from sklearn.neural_network import MLPClassifier\n",
        "from sklearn.metrics import accuracy_score, f1_score\n",
        "from sklearn.preprocessing import StandardScaler\n",
        "import audiomentations\n",
        "\n",
        "\n",
        "# All files and directories ending with .txt and that don't begin with a dot:\n",
        "ROOT = os.path.abspath('')\n",
        "dataset_path = os.path.join(ROOT, 'RAVDESS_dataset')\n",
        "\n",
        "dataset_files = glob.glob(f\"{dataset_path}/Actor_*/*.wav\")\n",
        "\n",
        "# Emotions in the RAVDESS dataset\n",
        "emotions={\n",
        "  '01':'neutral',\n",
        "  '02':'calm',\n",
        "  '03':'happy',\n",
        "  '04':'sad',\n",
        "  '05':'angry',\n",
        "  '06':'fearful',\n",
        "  '07':'disgust',\n",
        "  '08':'surprised'\n",
        "}\n",
        "\n",
        "#Emotions to observe\n",
        "focused_emotions=['neutral', 'calm', 'happy', 'sad', 'disgust', 'angry']\n",
        "\n",
        "sample_rate = 16000"
      ],
      "execution_count": 14,
      "outputs": []
    },
    {
      "cell_type": "code",
      "source": [
        "# Extract features (mfcc, chroma, mel) from a sound file\n",
        "# Additional features for feature extraction\n",
        "def extract_feature(file_name, mfcc, chroma, mel, contrast, tonnetz, zcr):\n",
        "    with soundfile.SoundFile(file_name) as sound_file:\n",
        "        X = sound_file.read(dtype=\"float32\")\n",
        "        sample_rate = sound_file.samplerate\n",
        "        if chroma:\n",
        "            stft = np.abs(librosa.stft(X))\n",
        "        result = np.array([])\n",
        "        if mfcc:\n",
        "            mfccs = np.mean(librosa.feature.mfcc(y=X, sr=sample_rate, n_mfcc=40).T, axis=0)\n",
        "            result = np.hstack((result, mfccs))\n",
        "        if chroma:\n",
        "            chroma = np.mean(librosa.feature.chroma_stft(S=stft, sr=sample_rate).T, axis=0)\n",
        "            result = np.hstack((result, chroma))\n",
        "        if mel:\n",
        "            mel = np.mean(librosa.feature.melspectrogram(y=X, sr=sample_rate).T, axis=0)\n",
        "            result = np.hstack((result, mel))\n",
        "        if contrast:\n",
        "            contrast = np.mean(librosa.feature.spectral_contrast(S=stft, sr=sample_rate).T, axis=0)\n",
        "            result = np.hstack((result, contrast))\n",
        "        if tonnetz:\n",
        "            tonnetz = np.mean(librosa.feature.tonnetz(y=librosa.effects.harmonic(X), sr=sample_rate).T, axis=0)\n",
        "            result = np.hstack((result, tonnetz))\n",
        "        if zcr:\n",
        "            zcr = np.mean(librosa.feature.zero_crossing_rate(y=X).T, axis=0)\n",
        "            result = np.hstack((result, zcr))\n",
        "    return result\n",
        "\n",
        "# Augmentation function\n",
        "def augment_data(x, y, sample_rate, aug_factor=2):\n",
        "    augmented_data = []\n",
        "    augmented_labels = []\n",
        "    aug = audiomentations.Compose([\n",
        "        audiomentations.AddGaussianNoise(p=0.5),\n",
        "        audiomentations.TimeStretch(p=0.5),\n",
        "        audiomentations.PitchShift(p=0.5),\n",
        "    ])\n",
        "    for i in range(len(x)):\n",
        "        for _ in range(aug_factor):\n",
        "            augmented_data.append(aug(x[i], sample_rate=sample_rate))\n",
        "            augmented_labels.append(y[i])\n",
        "    return np.array(augmented_data), np.array(augmented_labels)\n",
        "\n",
        "# Extract features with additional options\n",
        "def load_data(test_size=0.2):\n",
        "    x, y = [], []\n",
        "    for file in dataset_files:\n",
        "        file_name = os.path.basename(file)\n",
        "        emotion = emotions[file_name.split(\"-\")[2]]\n",
        "        if emotion not in focused_emotions:\n",
        "            continue\n",
        "        feature = extract_feature(file, mfcc=True, chroma=True, mel=True, contrast=True, tonnetz=True, zcr=True)\n",
        "        x.append(feature)\n",
        "        y.append(emotion)\n",
        "    return train_test_split(np.array(x), y, test_size=test_size, random_state=9)"
      ],
      "metadata": {
        "id": "EIAhuP7QBX2s"
      },
      "execution_count": 15,
      "outputs": []
    },
    {
      "cell_type": "code",
      "metadata": {
        "id": "gE_MSQYDqPqg",
        "colab": {
          "base_uri": "https://localhost:8080/"
        },
        "outputId": "9e4664d6-1a68-403b-a35e-63e228ea8c3b"
      },
      "source": [
        "# Load and preprocess the data\n",
        "x_train, x_test, y_train, y_test = load_data(test_size=0.25)\n",
        "\n",
        "# Augment the training data\n",
        "x_train_augmented, y_train_augmented = augment_data(x_train, y_train, sample_rate)\n",
        "\n",
        "# Combine original and augmented data\n",
        "x_train_combined = np.concatenate((x_train, x_train_augmented))\n",
        "y_train_combined = np.concatenate((y_train, y_train_augmented))\n",
        "\n",
        "#Get the shape of the training and testing datasets\n",
        "print((x_train.shape[0], x_test.shape[0]))\n",
        "\n",
        "#Get the number of features extracted\n",
        "print(f'Features extracted: {x_train.shape[1]}')"
      ],
      "execution_count": 16,
      "outputs": [
        {
          "output_type": "stream",
          "name": "stderr",
          "text": [
            "/usr/local/lib/python3.10/dist-packages/audiomentations/core/transforms_interface.py:62: UserWarning: Warning: input samples dtype is np.float64. Converting to np.float32\n",
            "  warnings.warn(\n",
            "/usr/local/lib/python3.10/dist-packages/librosa/core/spectrum.py:266: UserWarning: n_fft=2048 is too large for input signal of length=194\n",
            "  warnings.warn(\n"
          ]
        },
        {
          "output_type": "stream",
          "name": "stdout",
          "text": [
            "(792, 264)\n",
            "Features extracted: 194\n"
          ]
        }
      ]
    },
    {
      "cell_type": "code",
      "metadata": {
        "id": "bQsjvZiwqcTN",
        "colab": {
          "base_uri": "https://localhost:8080/"
        },
        "outputId": "e096c33a-cf82-4c55-ba29-d91f7f993ef9"
      },
      "source": [
        "# Standardize features\n",
        "scaler = StandardScaler()\n",
        "x_train_combined_scaled = scaler.fit_transform(x_train_combined)\n",
        "x_test_scaled = scaler.transform(x_test)\n",
        "\n",
        "# Initialize the Multi-Layer Perceptron Classifier with adjusted parameters\n",
        "model = MLPClassifier(alpha=0.01, batch_size=256, epsilon=1e-08, hidden_layer_sizes=(500,), learning_rate='adaptive', max_iter=500)\n",
        "\n",
        "# Train the model\n",
        "model.fit(x_train_combined_scaled, y_train_combined)\n",
        "\n",
        "# Predict for the test set\n",
        "y_pred = model.predict(x_test_scaled)\n",
        "\n",
        "# Calculate the accuracy of our model\n",
        "accuracy = accuracy_score(y_true=y_test, y_pred=y_pred)\n",
        "\n",
        "# Print the accuracy\n",
        "print(\"Accuracy: {:.2f}%\".format(accuracy * 100))"
      ],
      "execution_count": 17,
      "outputs": [
        {
          "output_type": "stream",
          "name": "stdout",
          "text": [
            "Accuracy: 69.70%\n"
          ]
        }
      ]
    },
    {
      "cell_type": "code",
      "metadata": {
        "colab": {
          "base_uri": "https://localhost:8080/"
        },
        "id": "m604kmiFtxLP",
        "outputId": "02106c09-d4c3-4485-812d-b6a2a7a8eeba"
      },
      "source": [
        "y_pred"
      ],
      "execution_count": 18,
      "outputs": [
        {
          "output_type": "execute_result",
          "data": {
            "text/plain": [
              "array(['sad', 'neutral', 'neutral', 'sad', 'sad', 'angry', 'calm', 'calm',\n",
              "       'neutral', 'neutral', 'angry', 'neutral', 'happy', 'neutral',\n",
              "       'neutral', 'neutral', 'calm', 'sad', 'happy', 'disgust', 'happy',\n",
              "       'sad', 'happy', 'happy', 'happy', 'calm', 'angry', 'neutral',\n",
              "       'neutral', 'disgust', 'calm', 'sad', 'sad', 'disgust', 'happy',\n",
              "       'neutral', 'happy', 'neutral', 'happy', 'happy', 'calm', 'calm',\n",
              "       'sad', 'disgust', 'happy', 'neutral', 'angry', 'angry', 'disgust',\n",
              "       'calm', 'calm', 'calm', 'neutral', 'calm', 'calm', 'sad', 'angry',\n",
              "       'happy', 'disgust', 'happy', 'disgust', 'sad', 'disgust', 'happy',\n",
              "       'sad', 'disgust', 'calm', 'calm', 'happy', 'neutral', 'calm',\n",
              "       'sad', 'angry', 'happy', 'calm', 'angry', 'happy', 'disgust',\n",
              "       'calm', 'happy', 'happy', 'sad', 'disgust', 'disgust', 'angry',\n",
              "       'happy', 'happy', 'angry', 'happy', 'angry', 'sad', 'calm',\n",
              "       'happy', 'disgust', 'happy', 'angry', 'calm', 'disgust', 'calm',\n",
              "       'calm', 'sad', 'sad', 'disgust', 'angry', 'angry', 'happy',\n",
              "       'angry', 'disgust', 'sad', 'calm', 'disgust', 'disgust', 'neutral',\n",
              "       'disgust', 'happy', 'disgust', 'angry', 'angry', 'happy',\n",
              "       'disgust', 'disgust', 'disgust', 'angry', 'happy', 'neutral',\n",
              "       'disgust', 'happy', 'disgust', 'sad', 'sad', 'calm', 'sad', 'calm',\n",
              "       'sad', 'angry', 'angry', 'neutral', 'angry', 'happy', 'sad',\n",
              "       'calm', 'disgust', 'sad', 'angry', 'sad', 'sad', 'angry',\n",
              "       'disgust', 'happy', 'calm', 'sad', 'happy', 'sad', 'happy',\n",
              "       'disgust', 'happy', 'disgust', 'happy', 'angry', 'sad', 'happy',\n",
              "       'calm', 'happy', 'happy', 'happy', 'angry', 'calm', 'angry',\n",
              "       'disgust', 'happy', 'calm', 'sad', 'neutral', 'happy', 'happy',\n",
              "       'angry', 'sad', 'angry', 'calm', 'sad', 'neutral', 'happy',\n",
              "       'angry', 'calm', 'sad', 'disgust', 'angry', 'neutral', 'neutral',\n",
              "       'angry', 'happy', 'angry', 'sad', 'happy', 'disgust', 'calm',\n",
              "       'angry', 'disgust', 'disgust', 'disgust', 'happy', 'happy', 'sad',\n",
              "       'disgust', 'calm', 'angry', 'sad', 'happy', 'sad', 'sad', 'calm',\n",
              "       'happy', 'calm', 'disgust', 'disgust', 'calm', 'calm', 'calm',\n",
              "       'calm', 'happy', 'happy', 'disgust', 'sad', 'neutral', 'happy',\n",
              "       'happy', 'happy', 'angry', 'disgust', 'neutral', 'happy',\n",
              "       'disgust', 'disgust', 'angry', 'calm', 'disgust', 'sad', 'calm',\n",
              "       'calm', 'disgust', 'calm', 'disgust', 'sad', 'disgust', 'disgust',\n",
              "       'calm', 'happy', 'happy', 'happy', 'happy', 'sad', 'happy', 'calm',\n",
              "       'calm', 'sad', 'disgust', 'disgust', 'calm', 'angry', 'happy',\n",
              "       'neutral', 'disgust', 'calm', 'disgust'], dtype='<U7')"
            ]
          },
          "metadata": {},
          "execution_count": 18
        }
      ]
    },
    {
      "cell_type": "code",
      "metadata": {
        "id": "_Ry4if_sqkLr",
        "colab": {
          "base_uri": "https://localhost:8080/"
        },
        "outputId": "b8010e4b-ed7e-4a28-f4f5-512e3d350a79"
      },
      "source": [
        "f1_score(y_test, y_pred,average=None)"
      ],
      "execution_count": 19,
      "outputs": [
        {
          "output_type": "execute_result",
          "data": {
            "text/plain": [
              "array([0.76190476, 0.78787879, 0.68      , 0.67272727, 0.625     ,\n",
              "       0.62068966])"
            ]
          },
          "metadata": {},
          "execution_count": 19
        }
      ]
    },
    {
      "cell_type": "code",
      "metadata": {
        "colab": {
          "base_uri": "https://localhost:8080/",
          "height": 676
        },
        "id": "0Rt9YfZkCO5A",
        "outputId": "f0c7079d-a003-4d5e-acff-d4d46b1c872d"
      },
      "source": [
        "import pandas as pd\n",
        "df=pd.DataFrame({'Actual': y_test, 'Predicted':y_pred})\n",
        "df.head(20)"
      ],
      "execution_count": 20,
      "outputs": [
        {
          "output_type": "execute_result",
          "data": {
            "text/plain": [
              "     Actual Predicted\n",
              "0       sad       sad\n",
              "1   neutral   neutral\n",
              "2   neutral   neutral\n",
              "3       sad       sad\n",
              "4     happy       sad\n",
              "5     angry     angry\n",
              "6      calm      calm\n",
              "7      calm      calm\n",
              "8   neutral   neutral\n",
              "9       sad   neutral\n",
              "10    angry     angry\n",
              "11  neutral   neutral\n",
              "12    angry     happy\n",
              "13  disgust   neutral\n",
              "14  neutral   neutral\n",
              "15      sad   neutral\n",
              "16     calm      calm\n",
              "17     calm       sad\n",
              "18    happy     happy\n",
              "19  disgust   disgust"
            ],
            "text/html": [
              "\n",
              "  <div id=\"df-81278f1a-ee04-4b6b-b15f-f42c4f5a1347\" class=\"colab-df-container\">\n",
              "    <div>\n",
              "<style scoped>\n",
              "    .dataframe tbody tr th:only-of-type {\n",
              "        vertical-align: middle;\n",
              "    }\n",
              "\n",
              "    .dataframe tbody tr th {\n",
              "        vertical-align: top;\n",
              "    }\n",
              "\n",
              "    .dataframe thead th {\n",
              "        text-align: right;\n",
              "    }\n",
              "</style>\n",
              "<table border=\"1\" class=\"dataframe\">\n",
              "  <thead>\n",
              "    <tr style=\"text-align: right;\">\n",
              "      <th></th>\n",
              "      <th>Actual</th>\n",
              "      <th>Predicted</th>\n",
              "    </tr>\n",
              "  </thead>\n",
              "  <tbody>\n",
              "    <tr>\n",
              "      <th>0</th>\n",
              "      <td>sad</td>\n",
              "      <td>sad</td>\n",
              "    </tr>\n",
              "    <tr>\n",
              "      <th>1</th>\n",
              "      <td>neutral</td>\n",
              "      <td>neutral</td>\n",
              "    </tr>\n",
              "    <tr>\n",
              "      <th>2</th>\n",
              "      <td>neutral</td>\n",
              "      <td>neutral</td>\n",
              "    </tr>\n",
              "    <tr>\n",
              "      <th>3</th>\n",
              "      <td>sad</td>\n",
              "      <td>sad</td>\n",
              "    </tr>\n",
              "    <tr>\n",
              "      <th>4</th>\n",
              "      <td>happy</td>\n",
              "      <td>sad</td>\n",
              "    </tr>\n",
              "    <tr>\n",
              "      <th>5</th>\n",
              "      <td>angry</td>\n",
              "      <td>angry</td>\n",
              "    </tr>\n",
              "    <tr>\n",
              "      <th>6</th>\n",
              "      <td>calm</td>\n",
              "      <td>calm</td>\n",
              "    </tr>\n",
              "    <tr>\n",
              "      <th>7</th>\n",
              "      <td>calm</td>\n",
              "      <td>calm</td>\n",
              "    </tr>\n",
              "    <tr>\n",
              "      <th>8</th>\n",
              "      <td>neutral</td>\n",
              "      <td>neutral</td>\n",
              "    </tr>\n",
              "    <tr>\n",
              "      <th>9</th>\n",
              "      <td>sad</td>\n",
              "      <td>neutral</td>\n",
              "    </tr>\n",
              "    <tr>\n",
              "      <th>10</th>\n",
              "      <td>angry</td>\n",
              "      <td>angry</td>\n",
              "    </tr>\n",
              "    <tr>\n",
              "      <th>11</th>\n",
              "      <td>neutral</td>\n",
              "      <td>neutral</td>\n",
              "    </tr>\n",
              "    <tr>\n",
              "      <th>12</th>\n",
              "      <td>angry</td>\n",
              "      <td>happy</td>\n",
              "    </tr>\n",
              "    <tr>\n",
              "      <th>13</th>\n",
              "      <td>disgust</td>\n",
              "      <td>neutral</td>\n",
              "    </tr>\n",
              "    <tr>\n",
              "      <th>14</th>\n",
              "      <td>neutral</td>\n",
              "      <td>neutral</td>\n",
              "    </tr>\n",
              "    <tr>\n",
              "      <th>15</th>\n",
              "      <td>sad</td>\n",
              "      <td>neutral</td>\n",
              "    </tr>\n",
              "    <tr>\n",
              "      <th>16</th>\n",
              "      <td>calm</td>\n",
              "      <td>calm</td>\n",
              "    </tr>\n",
              "    <tr>\n",
              "      <th>17</th>\n",
              "      <td>calm</td>\n",
              "      <td>sad</td>\n",
              "    </tr>\n",
              "    <tr>\n",
              "      <th>18</th>\n",
              "      <td>happy</td>\n",
              "      <td>happy</td>\n",
              "    </tr>\n",
              "    <tr>\n",
              "      <th>19</th>\n",
              "      <td>disgust</td>\n",
              "      <td>disgust</td>\n",
              "    </tr>\n",
              "  </tbody>\n",
              "</table>\n",
              "</div>\n",
              "    <div class=\"colab-df-buttons\">\n",
              "\n",
              "  <div class=\"colab-df-container\">\n",
              "    <button class=\"colab-df-convert\" onclick=\"convertToInteractive('df-81278f1a-ee04-4b6b-b15f-f42c4f5a1347')\"\n",
              "            title=\"Convert this dataframe to an interactive table.\"\n",
              "            style=\"display:none;\">\n",
              "\n",
              "  <svg xmlns=\"http://www.w3.org/2000/svg\" height=\"24px\" viewBox=\"0 -960 960 960\">\n",
              "    <path d=\"M120-120v-720h720v720H120Zm60-500h600v-160H180v160Zm220 220h160v-160H400v160Zm0 220h160v-160H400v160ZM180-400h160v-160H180v160Zm440 0h160v-160H620v160ZM180-180h160v-160H180v160Zm440 0h160v-160H620v160Z\"/>\n",
              "  </svg>\n",
              "    </button>\n",
              "\n",
              "  <style>\n",
              "    .colab-df-container {\n",
              "      display:flex;\n",
              "      gap: 12px;\n",
              "    }\n",
              "\n",
              "    .colab-df-convert {\n",
              "      background-color: #E8F0FE;\n",
              "      border: none;\n",
              "      border-radius: 50%;\n",
              "      cursor: pointer;\n",
              "      display: none;\n",
              "      fill: #1967D2;\n",
              "      height: 32px;\n",
              "      padding: 0 0 0 0;\n",
              "      width: 32px;\n",
              "    }\n",
              "\n",
              "    .colab-df-convert:hover {\n",
              "      background-color: #E2EBFA;\n",
              "      box-shadow: 0px 1px 2px rgba(60, 64, 67, 0.3), 0px 1px 3px 1px rgba(60, 64, 67, 0.15);\n",
              "      fill: #174EA6;\n",
              "    }\n",
              "\n",
              "    .colab-df-buttons div {\n",
              "      margin-bottom: 4px;\n",
              "    }\n",
              "\n",
              "    [theme=dark] .colab-df-convert {\n",
              "      background-color: #3B4455;\n",
              "      fill: #D2E3FC;\n",
              "    }\n",
              "\n",
              "    [theme=dark] .colab-df-convert:hover {\n",
              "      background-color: #434B5C;\n",
              "      box-shadow: 0px 1px 3px 1px rgba(0, 0, 0, 0.15);\n",
              "      filter: drop-shadow(0px 1px 2px rgba(0, 0, 0, 0.3));\n",
              "      fill: #FFFFFF;\n",
              "    }\n",
              "  </style>\n",
              "\n",
              "    <script>\n",
              "      const buttonEl =\n",
              "        document.querySelector('#df-81278f1a-ee04-4b6b-b15f-f42c4f5a1347 button.colab-df-convert');\n",
              "      buttonEl.style.display =\n",
              "        google.colab.kernel.accessAllowed ? 'block' : 'none';\n",
              "\n",
              "      async function convertToInteractive(key) {\n",
              "        const element = document.querySelector('#df-81278f1a-ee04-4b6b-b15f-f42c4f5a1347');\n",
              "        const dataTable =\n",
              "          await google.colab.kernel.invokeFunction('convertToInteractive',\n",
              "                                                    [key], {});\n",
              "        if (!dataTable) return;\n",
              "\n",
              "        const docLinkHtml = 'Like what you see? Visit the ' +\n",
              "          '<a target=\"_blank\" href=https://colab.research.google.com/notebooks/data_table.ipynb>data table notebook</a>'\n",
              "          + ' to learn more about interactive tables.';\n",
              "        element.innerHTML = '';\n",
              "        dataTable['output_type'] = 'display_data';\n",
              "        await google.colab.output.renderOutput(dataTable, element);\n",
              "        const docLink = document.createElement('div');\n",
              "        docLink.innerHTML = docLinkHtml;\n",
              "        element.appendChild(docLink);\n",
              "      }\n",
              "    </script>\n",
              "  </div>\n",
              "\n",
              "\n",
              "<div id=\"df-df445cba-29a1-485f-91bf-0c3d5a1811b2\">\n",
              "  <button class=\"colab-df-quickchart\" onclick=\"quickchart('df-df445cba-29a1-485f-91bf-0c3d5a1811b2')\"\n",
              "            title=\"Suggest charts\"\n",
              "            style=\"display:none;\">\n",
              "\n",
              "<svg xmlns=\"http://www.w3.org/2000/svg\" height=\"24px\"viewBox=\"0 0 24 24\"\n",
              "     width=\"24px\">\n",
              "    <g>\n",
              "        <path d=\"M19 3H5c-1.1 0-2 .9-2 2v14c0 1.1.9 2 2 2h14c1.1 0 2-.9 2-2V5c0-1.1-.9-2-2-2zM9 17H7v-7h2v7zm4 0h-2V7h2v10zm4 0h-2v-4h2v4z\"/>\n",
              "    </g>\n",
              "</svg>\n",
              "  </button>\n",
              "\n",
              "<style>\n",
              "  .colab-df-quickchart {\n",
              "      --bg-color: #E8F0FE;\n",
              "      --fill-color: #1967D2;\n",
              "      --hover-bg-color: #E2EBFA;\n",
              "      --hover-fill-color: #174EA6;\n",
              "      --disabled-fill-color: #AAA;\n",
              "      --disabled-bg-color: #DDD;\n",
              "  }\n",
              "\n",
              "  [theme=dark] .colab-df-quickchart {\n",
              "      --bg-color: #3B4455;\n",
              "      --fill-color: #D2E3FC;\n",
              "      --hover-bg-color: #434B5C;\n",
              "      --hover-fill-color: #FFFFFF;\n",
              "      --disabled-bg-color: #3B4455;\n",
              "      --disabled-fill-color: #666;\n",
              "  }\n",
              "\n",
              "  .colab-df-quickchart {\n",
              "    background-color: var(--bg-color);\n",
              "    border: none;\n",
              "    border-radius: 50%;\n",
              "    cursor: pointer;\n",
              "    display: none;\n",
              "    fill: var(--fill-color);\n",
              "    height: 32px;\n",
              "    padding: 0;\n",
              "    width: 32px;\n",
              "  }\n",
              "\n",
              "  .colab-df-quickchart:hover {\n",
              "    background-color: var(--hover-bg-color);\n",
              "    box-shadow: 0 1px 2px rgba(60, 64, 67, 0.3), 0 1px 3px 1px rgba(60, 64, 67, 0.15);\n",
              "    fill: var(--button-hover-fill-color);\n",
              "  }\n",
              "\n",
              "  .colab-df-quickchart-complete:disabled,\n",
              "  .colab-df-quickchart-complete:disabled:hover {\n",
              "    background-color: var(--disabled-bg-color);\n",
              "    fill: var(--disabled-fill-color);\n",
              "    box-shadow: none;\n",
              "  }\n",
              "\n",
              "  .colab-df-spinner {\n",
              "    border: 2px solid var(--fill-color);\n",
              "    border-color: transparent;\n",
              "    border-bottom-color: var(--fill-color);\n",
              "    animation:\n",
              "      spin 1s steps(1) infinite;\n",
              "  }\n",
              "\n",
              "  @keyframes spin {\n",
              "    0% {\n",
              "      border-color: transparent;\n",
              "      border-bottom-color: var(--fill-color);\n",
              "      border-left-color: var(--fill-color);\n",
              "    }\n",
              "    20% {\n",
              "      border-color: transparent;\n",
              "      border-left-color: var(--fill-color);\n",
              "      border-top-color: var(--fill-color);\n",
              "    }\n",
              "    30% {\n",
              "      border-color: transparent;\n",
              "      border-left-color: var(--fill-color);\n",
              "      border-top-color: var(--fill-color);\n",
              "      border-right-color: var(--fill-color);\n",
              "    }\n",
              "    40% {\n",
              "      border-color: transparent;\n",
              "      border-right-color: var(--fill-color);\n",
              "      border-top-color: var(--fill-color);\n",
              "    }\n",
              "    60% {\n",
              "      border-color: transparent;\n",
              "      border-right-color: var(--fill-color);\n",
              "    }\n",
              "    80% {\n",
              "      border-color: transparent;\n",
              "      border-right-color: var(--fill-color);\n",
              "      border-bottom-color: var(--fill-color);\n",
              "    }\n",
              "    90% {\n",
              "      border-color: transparent;\n",
              "      border-bottom-color: var(--fill-color);\n",
              "    }\n",
              "  }\n",
              "</style>\n",
              "\n",
              "  <script>\n",
              "    async function quickchart(key) {\n",
              "      const quickchartButtonEl =\n",
              "        document.querySelector('#' + key + ' button');\n",
              "      quickchartButtonEl.disabled = true;  // To prevent multiple clicks.\n",
              "      quickchartButtonEl.classList.add('colab-df-spinner');\n",
              "      try {\n",
              "        const charts = await google.colab.kernel.invokeFunction(\n",
              "            'suggestCharts', [key], {});\n",
              "      } catch (error) {\n",
              "        console.error('Error during call to suggestCharts:', error);\n",
              "      }\n",
              "      quickchartButtonEl.classList.remove('colab-df-spinner');\n",
              "      quickchartButtonEl.classList.add('colab-df-quickchart-complete');\n",
              "    }\n",
              "    (() => {\n",
              "      let quickchartButtonEl =\n",
              "        document.querySelector('#df-df445cba-29a1-485f-91bf-0c3d5a1811b2 button');\n",
              "      quickchartButtonEl.style.display =\n",
              "        google.colab.kernel.accessAllowed ? 'block' : 'none';\n",
              "    })();\n",
              "  </script>\n",
              "</div>\n",
              "\n",
              "    </div>\n",
              "  </div>\n"
            ],
            "application/vnd.google.colaboratory.intrinsic+json": {
              "type": "dataframe",
              "variable_name": "df",
              "summary": "{\n  \"name\": \"df\",\n  \"rows\": 264,\n  \"fields\": [\n    {\n      \"column\": \"Actual\",\n      \"properties\": {\n        \"dtype\": \"category\",\n        \"num_unique_values\": 6,\n        \"samples\": [\n          \"sad\",\n          \"neutral\",\n          \"disgust\"\n        ],\n        \"semantic_type\": \"\",\n        \"description\": \"\"\n      }\n    },\n    {\n      \"column\": \"Predicted\",\n      \"properties\": {\n        \"dtype\": \"category\",\n        \"num_unique_values\": 6,\n        \"samples\": [\n          \"sad\",\n          \"neutral\",\n          \"disgust\"\n        ],\n        \"semantic_type\": \"\",\n        \"description\": \"\"\n      }\n    }\n  ]\n}"
            }
          },
          "metadata": {},
          "execution_count": 20
        }
      ]
    },
    {
      "cell_type": "code",
      "metadata": {
        "id": "eYPWbWLBqkN7",
        "colab": {
          "base_uri": "https://localhost:8080/"
        },
        "outputId": "7d8d488b-fc71-4f37-d38f-e6efccacbac2"
      },
      "source": [
        "# import pickle\n",
        "# # Writing different model files to file\n",
        "# with open( 'modelForPrediction1.sav', 'wb') as f:\n",
        "#     pickle.dump(model,f)\n",
        "import joblib\n",
        "\n",
        "clf_file = 'emotion_classifier_v2.pkl'\n",
        "\n",
        "joblib.dump(model, clf_file)"
      ],
      "execution_count": 21,
      "outputs": [
        {
          "output_type": "execute_result",
          "data": {
            "text/plain": [
              "['emotion_classifier_v2.pkl']"
            ]
          },
          "metadata": {},
          "execution_count": 21
        }
      ]
    },
    {
      "cell_type": "code",
      "metadata": {
        "colab": {
          "base_uri": "https://localhost:8080/"
        },
        "id": "dw0IfunzvqtV",
        "outputId": "593d92b9-d7fe-48aa-921b-6e45deec1a4d"
      },
      "source": [
        "filename = 'emotion_classifier_v2.pkl'\n",
        "loaded_model = joblib.load(open(filename, 'rb')) # loading the model file from the storage\n",
        "\n",
        "feature=extract_feature(f\"{dataset_path}/Actor_01/03-01-01-01-01-01-01.wav\", mfcc=True, chroma=True, mel=True, contrast=True, tonnetz=True, zcr=True)\n",
        "\n",
        "feature=feature.reshape(1,-1)\n",
        "\n",
        "prediction=loaded_model.predict(feature)\n",
        "prediction"
      ],
      "execution_count": 23,
      "outputs": [
        {
          "output_type": "execute_result",
          "data": {
            "text/plain": [
              "array(['sad'], dtype='<U7')"
            ]
          },
          "metadata": {},
          "execution_count": 23
        }
      ]
    },
    {
      "cell_type": "code",
      "metadata": {
        "id": "grRD5MrTxOaL"
      },
      "source": [
        "feature"
      ],
      "execution_count": null,
      "outputs": []
    },
    {
      "cell_type": "code",
      "metadata": {
        "id": "2b_mwxpsyugl"
      },
      "source": [],
      "execution_count": null,
      "outputs": []
    }
  ]
}