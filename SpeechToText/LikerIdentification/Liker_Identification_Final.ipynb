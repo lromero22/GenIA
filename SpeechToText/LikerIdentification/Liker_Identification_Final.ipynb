{
 "cells": [
  {
   "cell_type": "markdown",
   "metadata": {},
   "source": [
    "# Identificación del Liker"
   ]
  },
  {
   "cell_type": "code",
   "execution_count": 3,
   "metadata": {},
   "outputs": [],
   "source": [
    "# Importacion de librerias\n",
    "import os\n",
    "import spacy\n",
    "import pandas as pd\n",
    "from spacy.matcher import Matcher\n",
    "\n",
    "# Carag del modelo\n",
    "spacy.require_cpu() # Temporal mientras se arregla problema con uso de GPU\n",
    "nlp = spacy.load(\"es_core_news_lg\")"
   ]
  },
  {
   "cell_type": "markdown",
   "metadata": {},
   "source": [
    "# Guardado de datos en un dataframe"
   ]
  },
  {
   "cell_type": "code",
   "execution_count": 6,
   "metadata": {},
   "outputs": [
    {
     "data": {
      "text/plain": [
       "'1001764369_1_transcription.txt'"
      ]
     },
     "execution_count": 6,
     "metadata": {},
     "output_type": "execute_result"
    }
   ],
   "source": [
    "files = os.listdir(\"Raw_Transcriptions\")\n",
    "files[0]"
   ]
  },
  {
   "cell_type": "code",
   "execution_count": 12,
   "metadata": {},
   "outputs": [
    {
     "data": {
      "text/html": [
       "<div>\n",
       "<style scoped>\n",
       "    .dataframe tbody tr th:only-of-type {\n",
       "        vertical-align: middle;\n",
       "    }\n",
       "\n",
       "    .dataframe tbody tr th {\n",
       "        vertical-align: top;\n",
       "    }\n",
       "\n",
       "    .dataframe thead th {\n",
       "        text-align: right;\n",
       "    }\n",
       "</style>\n",
       "<table border=\"1\" class=\"dataframe\">\n",
       "  <thead>\n",
       "    <tr style=\"text-align: right;\">\n",
       "      <th></th>\n",
       "      <th>Tiempo</th>\n",
       "      <th>Speaker</th>\n",
       "      <th>Texto</th>\n",
       "    </tr>\n",
       "  </thead>\n",
       "  <tbody>\n",
       "    <tr>\n",
       "      <th>0</th>\n",
       "      <td>0:00:10 - 0:00:10</td>\n",
       "      <td>SPEAKER_01</td>\n",
       "      <td>Hola</td>\n",
       "    </tr>\n",
       "    <tr>\n",
       "      <th>1</th>\n",
       "      <td>0:00:11 - 0:00:13</td>\n",
       "      <td>SPEAKER_00</td>\n",
       "      <td>Sí, buenas tardes ¿Con Juan Cartagena?</td>\n",
       "    </tr>\n",
       "    <tr>\n",
       "      <th>2</th>\n",
       "      <td>0:00:14 - 0:00:15</td>\n",
       "      <td>SPEAKER_01</td>\n",
       "      <td>Sí</td>\n",
       "    </tr>\n",
       "    <tr>\n",
       "      <th>3</th>\n",
       "      <td>0:00:16 - 0:00:18</td>\n",
       "      <td>SPEAKER_00</td>\n",
       "      <td>Hola, hola ¿Cómo estás?</td>\n",
       "    </tr>\n",
       "    <tr>\n",
       "      <th>4</th>\n",
       "      <td>0:00:19 - 0:00:20</td>\n",
       "      <td>SPEAKER_01</td>\n",
       "      <td>Muy bien</td>\n",
       "    </tr>\n",
       "    <tr>\n",
       "      <th>...</th>\n",
       "      <td>...</td>\n",
       "      <td>...</td>\n",
       "      <td>...</td>\n",
       "    </tr>\n",
       "    <tr>\n",
       "      <th>80</th>\n",
       "      <td>0:09:43 - 0:09:44</td>\n",
       "      <td>SPEAKER_01</td>\n",
       "      <td>Listo. Listo.</td>\n",
       "    </tr>\n",
       "    <tr>\n",
       "      <th>81</th>\n",
       "      <td>0:09:44 - 0:09:50</td>\n",
       "      <td>SPEAKER_00</td>\n",
       "      <td>Listo. Y dime, yo ya me comunicaría entonces c...</td>\n",
       "    </tr>\n",
       "    <tr>\n",
       "      <th>82</th>\n",
       "      <td>0:09:51 - 0:09:53</td>\n",
       "      <td>SPEAKER_01</td>\n",
       "      <td>Bueno. Listo. Hágale pues.</td>\n",
       "    </tr>\n",
       "    <tr>\n",
       "      <th>83</th>\n",
       "      <td>0:09:53 - 0:09:56</td>\n",
       "      <td>SPEAKER_00</td>\n",
       "      <td>Bueno, Juan. Ustedes recuerden que hablaste co...</td>\n",
       "    </tr>\n",
       "    <tr>\n",
       "      <th>84</th>\n",
       "      <td>0:09:57 - 0:09:58</td>\n",
       "      <td>SPEAKER_01</td>\n",
       "      <td>Listo. Gracias.</td>\n",
       "    </tr>\n",
       "  </tbody>\n",
       "</table>\n",
       "<p>85 rows × 3 columns</p>\n",
       "</div>"
      ],
      "text/plain": [
       "               Tiempo     Speaker  \\\n",
       "0   0:00:10 - 0:00:10  SPEAKER_01   \n",
       "1   0:00:11 - 0:00:13  SPEAKER_00   \n",
       "2   0:00:14 - 0:00:15  SPEAKER_01   \n",
       "3   0:00:16 - 0:00:18  SPEAKER_00   \n",
       "4   0:00:19 - 0:00:20  SPEAKER_01   \n",
       "..                ...         ...   \n",
       "80  0:09:43 - 0:09:44  SPEAKER_01   \n",
       "81  0:09:44 - 0:09:50  SPEAKER_00   \n",
       "82  0:09:51 - 0:09:53  SPEAKER_01   \n",
       "83  0:09:53 - 0:09:56  SPEAKER_00   \n",
       "84  0:09:57 - 0:09:58  SPEAKER_01   \n",
       "\n",
       "                                                Texto  \n",
       "0                                                Hola  \n",
       "1              Sí, buenas tardes ¿Con Juan Cartagena?  \n",
       "2                                                  Sí  \n",
       "3                             Hola, hola ¿Cómo estás?  \n",
       "4                                            Muy bien  \n",
       "..                                                ...  \n",
       "80                                      Listo. Listo.  \n",
       "81  Listo. Y dime, yo ya me comunicaría entonces c...  \n",
       "82                         Bueno. Listo. Hágale pues.  \n",
       "83  Bueno, Juan. Ustedes recuerden que hablaste co...  \n",
       "84                                    Listo. Gracias.  \n",
       "\n",
       "[85 rows x 3 columns]"
      ]
     },
     "execution_count": 12,
     "metadata": {},
     "output_type": "execute_result"
    }
   ],
   "source": [
    "files = os.listdir(\"Raw_Transcriptions\")\n",
    "    # Abre el archivo en modo lectura\n",
    "with open(\"Raw_Transcriptions/\" + files[0], \"r\", encoding = \"utf-8\") as archivo:\n",
    "    aux_list_df = [] # Lista auxiliar para creacion del df\n",
    "    # Itera sobre cada línea del archivo\n",
    "    for linea in archivo:\n",
    "        # Creacion del dataframe con la transcripcion\n",
    "        transcript = [linea[:17].strip(), linea[19:29].strip(), linea[31:].strip()]\n",
    "        aux_list_df.append(transcript)\n",
    "        \n",
    "    # Creacion del dataframe con la transcripcion\n",
    "    transcript_df = pd.DataFrame(aux_list_df, columns = [\"Tiempo\", \"Speaker\", \"Texto\"])\n",
    "\n",
    "transcript_df"
   ]
  },
  {
   "cell_type": "markdown",
   "metadata": {},
   "source": [
    "# Liker = Primer Speaker"
   ]
  },
  {
   "cell_type": "code",
   "execution_count": 17,
   "metadata": {},
   "outputs": [
    {
     "data": {
      "text/plain": [
       "0      True\n",
       "1     False\n",
       "2      True\n",
       "3     False\n",
       "4      True\n",
       "      ...  \n",
       "80     True\n",
       "81    False\n",
       "82     True\n",
       "83    False\n",
       "84     True\n",
       "Name: Speaker, Length: 85, dtype: bool"
      ]
     },
     "execution_count": 17,
     "metadata": {},
     "output_type": "execute_result"
    }
   ],
   "source": [
    "transcript_df.Speaker == transcript_df.Speaker[0]"
   ]
  },
  {
   "cell_type": "code",
   "execution_count": 18,
   "metadata": {},
   "outputs": [
    {
     "data": {
      "text/plain": [
       "array(['Liker', 'Cliente', 'Liker', 'Cliente', 'Liker', 'Cliente',\n",
       "       'Liker', 'Cliente', 'Liker', 'Cliente', 'Liker', 'Cliente',\n",
       "       'Liker', 'Cliente', 'Liker', 'Cliente', 'Cliente', 'Liker',\n",
       "       'Cliente', 'Liker', 'Cliente', 'Liker', 'Cliente', 'Cliente',\n",
       "       'Cliente', 'Liker', 'Cliente', 'Liker', 'Cliente', 'Liker',\n",
       "       'Cliente', 'Liker', 'Cliente', 'Liker', 'Cliente', 'Liker',\n",
       "       'Cliente', 'Liker', 'Cliente', 'Liker', 'Cliente', 'Liker',\n",
       "       'Cliente', 'Liker', 'Cliente', 'Liker', 'Cliente', 'Liker',\n",
       "       'Cliente', 'Liker', 'Cliente', 'Liker', 'Cliente', 'Liker',\n",
       "       'Cliente', 'Liker', 'Cliente', 'Liker', 'Cliente', 'Liker',\n",
       "       'Cliente', 'Liker', 'Cliente', 'Liker', 'Cliente', 'Liker',\n",
       "       'Cliente', 'Liker', 'Cliente', 'Liker', 'Cliente', 'Liker',\n",
       "       'Cliente', 'Liker', 'Liker', 'Cliente', 'Liker', 'Cliente',\n",
       "       'Liker', 'Cliente', 'Liker', 'Cliente', 'Liker', 'Cliente',\n",
       "       'Liker'], dtype='<U7')"
      ]
     },
     "execution_count": 18,
     "metadata": {},
     "output_type": "execute_result"
    }
   ],
   "source": [
    "import numpy as np\n",
    "np.where(transcript_df.Speaker == transcript_df.Speaker[0], \"Liker\", \"Cliente\")"
   ]
  },
  {
   "cell_type": "code",
   "execution_count": 22,
   "metadata": {},
   "outputs": [
    {
     "data": {
      "text/html": [
       "<div>\n",
       "<style scoped>\n",
       "    .dataframe tbody tr th:only-of-type {\n",
       "        vertical-align: middle;\n",
       "    }\n",
       "\n",
       "    .dataframe tbody tr th {\n",
       "        vertical-align: top;\n",
       "    }\n",
       "\n",
       "    .dataframe thead th {\n",
       "        text-align: right;\n",
       "    }\n",
       "</style>\n",
       "<table border=\"1\" class=\"dataframe\">\n",
       "  <thead>\n",
       "    <tr style=\"text-align: right;\">\n",
       "      <th></th>\n",
       "      <th>Tiempo</th>\n",
       "      <th>Speaker</th>\n",
       "      <th>Texto</th>\n",
       "      <th>Speaker_Asignado_Opt_1</th>\n",
       "    </tr>\n",
       "  </thead>\n",
       "  <tbody>\n",
       "    <tr>\n",
       "      <th>0</th>\n",
       "      <td>0:00:10 - 0:00:10</td>\n",
       "      <td>SPEAKER_01</td>\n",
       "      <td>Hola</td>\n",
       "      <td>Liker</td>\n",
       "    </tr>\n",
       "    <tr>\n",
       "      <th>1</th>\n",
       "      <td>0:00:11 - 0:00:13</td>\n",
       "      <td>SPEAKER_00</td>\n",
       "      <td>Sí, buenas tardes ¿Con Juan Cartagena?</td>\n",
       "      <td>Cliente</td>\n",
       "    </tr>\n",
       "    <tr>\n",
       "      <th>2</th>\n",
       "      <td>0:00:14 - 0:00:15</td>\n",
       "      <td>SPEAKER_01</td>\n",
       "      <td>Sí</td>\n",
       "      <td>Liker</td>\n",
       "    </tr>\n",
       "    <tr>\n",
       "      <th>3</th>\n",
       "      <td>0:00:16 - 0:00:18</td>\n",
       "      <td>SPEAKER_00</td>\n",
       "      <td>Hola, hola ¿Cómo estás?</td>\n",
       "      <td>Cliente</td>\n",
       "    </tr>\n",
       "    <tr>\n",
       "      <th>4</th>\n",
       "      <td>0:00:19 - 0:00:20</td>\n",
       "      <td>SPEAKER_01</td>\n",
       "      <td>Muy bien</td>\n",
       "      <td>Liker</td>\n",
       "    </tr>\n",
       "    <tr>\n",
       "      <th>...</th>\n",
       "      <td>...</td>\n",
       "      <td>...</td>\n",
       "      <td>...</td>\n",
       "      <td>...</td>\n",
       "    </tr>\n",
       "    <tr>\n",
       "      <th>80</th>\n",
       "      <td>0:09:43 - 0:09:44</td>\n",
       "      <td>SPEAKER_01</td>\n",
       "      <td>Listo. Listo.</td>\n",
       "      <td>Liker</td>\n",
       "    </tr>\n",
       "    <tr>\n",
       "      <th>81</th>\n",
       "      <td>0:09:44 - 0:09:50</td>\n",
       "      <td>SPEAKER_00</td>\n",
       "      <td>Listo. Y dime, yo ya me comunicaría entonces c...</td>\n",
       "      <td>Cliente</td>\n",
       "    </tr>\n",
       "    <tr>\n",
       "      <th>82</th>\n",
       "      <td>0:09:51 - 0:09:53</td>\n",
       "      <td>SPEAKER_01</td>\n",
       "      <td>Bueno. Listo. Hágale pues.</td>\n",
       "      <td>Liker</td>\n",
       "    </tr>\n",
       "    <tr>\n",
       "      <th>83</th>\n",
       "      <td>0:09:53 - 0:09:56</td>\n",
       "      <td>SPEAKER_00</td>\n",
       "      <td>Bueno, Juan. Ustedes recuerden que hablaste co...</td>\n",
       "      <td>Cliente</td>\n",
       "    </tr>\n",
       "    <tr>\n",
       "      <th>84</th>\n",
       "      <td>0:09:57 - 0:09:58</td>\n",
       "      <td>SPEAKER_01</td>\n",
       "      <td>Listo. Gracias.</td>\n",
       "      <td>Liker</td>\n",
       "    </tr>\n",
       "  </tbody>\n",
       "</table>\n",
       "<p>85 rows × 4 columns</p>\n",
       "</div>"
      ],
      "text/plain": [
       "               Tiempo     Speaker  \\\n",
       "0   0:00:10 - 0:00:10  SPEAKER_01   \n",
       "1   0:00:11 - 0:00:13  SPEAKER_00   \n",
       "2   0:00:14 - 0:00:15  SPEAKER_01   \n",
       "3   0:00:16 - 0:00:18  SPEAKER_00   \n",
       "4   0:00:19 - 0:00:20  SPEAKER_01   \n",
       "..                ...         ...   \n",
       "80  0:09:43 - 0:09:44  SPEAKER_01   \n",
       "81  0:09:44 - 0:09:50  SPEAKER_00   \n",
       "82  0:09:51 - 0:09:53  SPEAKER_01   \n",
       "83  0:09:53 - 0:09:56  SPEAKER_00   \n",
       "84  0:09:57 - 0:09:58  SPEAKER_01   \n",
       "\n",
       "                                                Texto Speaker_Asignado_Opt_1  \n",
       "0                                                Hola                  Liker  \n",
       "1              Sí, buenas tardes ¿Con Juan Cartagena?                Cliente  \n",
       "2                                                  Sí                  Liker  \n",
       "3                             Hola, hola ¿Cómo estás?                Cliente  \n",
       "4                                            Muy bien                  Liker  \n",
       "..                                                ...                    ...  \n",
       "80                                      Listo. Listo.                  Liker  \n",
       "81  Listo. Y dime, yo ya me comunicaría entonces c...                Cliente  \n",
       "82                         Bueno. Listo. Hágale pues.                  Liker  \n",
       "83  Bueno, Juan. Ustedes recuerden que hablaste co...                Cliente  \n",
       "84                                    Listo. Gracias.                  Liker  \n",
       "\n",
       "[85 rows x 4 columns]"
      ]
     },
     "execution_count": 22,
     "metadata": {},
     "output_type": "execute_result"
    }
   ],
   "source": [
    "import numpy as np\n",
    "transcript_df[\"Speaker_Asignado_Opt_1\"] = np.where(transcript_df.Speaker == transcript_df.Speaker[0], \"Liker\", \"Cliente\")\n",
    "transcript_df # Opción 1 (La sencilla)"
   ]
  },
  {
   "cell_type": "markdown",
   "metadata": {},
   "source": [
    "# Liker = Persona que más habla"
   ]
  },
  {
   "cell_type": "code",
   "execution_count": 23,
   "metadata": {},
   "outputs": [
    {
     "ename": "NameError",
     "evalue": "name 'full_df' is not defined",
     "output_type": "error",
     "traceback": [
      "\u001b[1;31m---------------------------------------------------------------------------\u001b[0m",
      "\u001b[1;31mNameError\u001b[0m                                 Traceback (most recent call last)",
      "Cell \u001b[1;32mIn[23], line 1\u001b[0m\n\u001b[1;32m----> 1\u001b[0m \u001b[43mfull_df\u001b[49m\n",
      "\u001b[1;31mNameError\u001b[0m: name 'full_df' is not defined"
     ]
    }
   ],
   "source": [
    "full_df"
   ]
  }
 ],
 "metadata": {
  "kernelspec": {
   "display_name": "LikerIdentification",
   "language": "python",
   "name": "python3"
  },
  "language_info": {
   "codemirror_mode": {
    "name": "ipython",
    "version": 3
   },
   "file_extension": ".py",
   "mimetype": "text/x-python",
   "name": "python",
   "nbconvert_exporter": "python",
   "pygments_lexer": "ipython3",
   "version": "3.11.4"
  }
 },
 "nbformat": 4,
 "nbformat_minor": 2
}
