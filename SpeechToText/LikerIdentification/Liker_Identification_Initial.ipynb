{
 "cells": [
  {
   "cell_type": "markdown",
   "metadata": {},
   "source": [
    "# Identificacion del Liker"
   ]
  },
  {
   "cell_type": "code",
   "execution_count": 1,
   "metadata": {},
   "outputs": [],
   "source": [
    "import spacy\n",
    "\n",
    "# spacy.prefer_gpu()\n",
    "nlp = spacy.load(\"es_core_news_sm\")"
   ]
  },
  {
   "cell_type": "code",
   "execution_count": 2,
   "metadata": {},
   "outputs": [],
   "source": [
    "# Crear un diccionario para almacenar las líneas de la transcripción\n",
    "transcripcion_dict = {}\n",
    "\n",
    "# Abre el archivo en modo lectura\n",
    "with open(\"PruebaFuncion.txt\", \"r\", encoding=\"utf-8\") as archivo:\n",
    "    # Itera sobre cada línea del archivo\n",
    "    for linea in archivo:\n",
    "        # Obtiene los primeros 30 caracteres como clave\n",
    "        clave = linea[:30].strip()\n",
    "        # Agrega la línea al diccionario con los primeros 30 caracteres como clave\n",
    "        transcripcion_dict[clave] = linea[31:].strip()"
   ]
  },
  {
   "cell_type": "code",
   "execution_count": 3,
   "metadata": {},
   "outputs": [],
   "source": [
    "import pandas as pd\n",
    "szs = pd.Series(transcripcion_dict)"
   ]
  },
  {
   "cell_type": "code",
   "execution_count": 4,
   "metadata": {},
   "outputs": [
    {
     "name": "stderr",
     "output_type": "stream",
     "text": [
      "C:\\Users\\usuario\\AppData\\Local\\Temp\\ipykernel_3108\\1353790660.py:1: FutureWarning: Series.__getitem__ treating keys as positions is deprecated. In a future version, integer keys will always be treated as labels (consistent with DataFrame behavior). To access a value by position, use `ser.iloc[pos]`\n",
      "  melo = nlp(szs[0])\n"
     ]
    }
   ],
   "source": [
    "melo = nlp(szs[0])"
   ]
  },
  {
   "cell_type": "code",
   "execution_count": 7,
   "metadata": {},
   "outputs": [
    {
     "data": {
      "text/plain": [
       "0:00:21 - 0:00:26 [SPEAKER_00]    (Hola, ,, buenas, tardes, ,, me, gusta, hablar...\n",
       "0:00:27 - 0:00:28 [SPEAKER_01]                            (¿, Y, con, él, habla, ?)\n",
       "0:00:28 - 0:00:30 [SPEAKER_00]    (Con, Natalia, Montoya, de, Sudamericana, ,, ¿...\n",
       "0:00:31 - 0:00:32 [SPEAKER_01]                         (¿, De, dónde, ,, perdón, ?)\n",
       "0:00:33 - 0:00:35 [SPEAKER_00]              (Natalia, Montoya, de, Sudamericana, .)\n",
       "0:00:35 - 0:00:37 [SPEAKER_01]                (Hola, Natalia, ,, ¿, cómo, estás, ?)\n",
       "0:00:37 - 0:00:49 [SPEAKER_00]    (Muy, bien, ,, muchas, gracias, ., Bueno, ,, t...\n",
       "0:00:50 - 0:00:53 [SPEAKER_01]    (La, carácter, llegó, al, mismo, día, que, hab...\n",
       "0:00:54 - 0:00:55 [SPEAKER_00]                                         (¿, Cómo, ?)\n",
       "0:00:55 - 0:00:58 [SPEAKER_01]             (La, carácter, llegó, al, mismo, día, .)\n",
       "0:00:58 - 0:01:11 [SPEAKER_00]    (Ah, ,, bueno, ,, perfecto, ., Entonces, ,, pu...\n",
       "0:01:12 - 0:01:13 [SPEAKER_01]                               (¿, Visto, de, una, ?)\n",
       "0:01:13 - 0:01:16 [SPEAKER_00]    (Muchas, gracias, Alejandro, ,, una, excelente...\n",
       "0:01:16 - 0:01:17 [SPEAKER_01]     (Natalia, ,, una, vez, concluido, ,, gracias, .)\n",
       "0:01:19 - 0:01:20 [SPEAKER_00]               (Que, estés, bien, ,, hasta, luego, .)\n",
       "dtype: object"
      ]
     },
     "execution_count": 7,
     "metadata": {},
     "output_type": "execute_result"
    }
   ],
   "source": [
    "szs.apply(nlp)"
   ]
  }
 ],
 "metadata": {
  "kernelspec": {
   "display_name": "LikerIdentification",
   "language": "python",
   "name": "python3"
  },
  "language_info": {
   "codemirror_mode": {
    "name": "ipython",
    "version": 3
   },
   "file_extension": ".py",
   "mimetype": "text/x-python",
   "name": "python",
   "nbconvert_exporter": "python",
   "pygments_lexer": "ipython3",
   "version": "3.11.4"
  }
 },
 "nbformat": 4,
 "nbformat_minor": 2
}
