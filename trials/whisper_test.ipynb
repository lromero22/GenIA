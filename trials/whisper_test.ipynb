{
  "nbformat": 4,
  "nbformat_minor": 0,
  "metadata": {
    "colab": {
      "provenance": []
    },
    "kernelspec": {
      "name": "python3",
      "display_name": "Python 3"
    },
    "language_info": {
      "name": "python"
    }
  },
  "cells": [
    {
      "cell_type": "code",
      "execution_count": 1,
      "metadata": {
        "colab": {
          "base_uri": "https://localhost:8080/"
        },
        "id": "xZU4qnAvqJC4",
        "outputId": "c73ced56-5a1c-478a-cc69-5840d93e07ba"
      },
      "outputs": [
        {
          "output_type": "stream",
          "name": "stdout",
          "text": [
            "\u001b[31mERROR: Operation cancelled by user\u001b[0m\u001b[31m\n",
            "\u001b[0m"
          ]
        }
      ],
      "source": [
        "!pip install git+https://github.com/openai/whisper.git"
      ]
    },
    {
      "cell_type": "code",
      "source": [
        "import whisper\n",
        "import os\n",
        "import numpy as np\n",
        "import torch\n",
        "\n",
        "path = \"/content/14838701_2.WAV\""
      ],
      "metadata": {
        "id": "Euf6UAJEqa73"
      },
      "execution_count": 1,
      "outputs": []
    },
    {
      "cell_type": "code",
      "source": [
        "torch.cuda.is_available()\n",
        "DEVICE = \"cuda\" if torch.cuda.is_available() else \"cpu\""
      ],
      "metadata": {
        "id": "MuhtVMsprEY9"
      },
      "execution_count": 2,
      "outputs": []
    },
    {
      "cell_type": "code",
      "source": [
        "model = whisper.load_model(\"large\", device=DEVICE)\n",
        "print(\n",
        "    f\"Model is {'multilingual' if model.is_multilingual else 'English-only'} \"\n",
        "    f\"and has {sum(np.prod(p.shape) for p in model.parameters()):,} parameters.\"\n",
        ")"
      ],
      "metadata": {
        "colab": {
          "base_uri": "https://localhost:8080/"
        },
        "id": "hWCE8H58rHvG",
        "outputId": "75937d5f-efc3-4f24-ef48-20f731ee7196"
      },
      "execution_count": 3,
      "outputs": [
        {
          "output_type": "stream",
          "name": "stdout",
          "text": [
            "Model is multilingual and has 1,541,570,560 parameters.\n"
          ]
        }
      ]
    },
    {
      "cell_type": "code",
      "source": [
        "audio = whisper.load_audio(path)\n",
        "audio = whisper.pad_or_trim(audio)\n",
        "\n",
        "mel = whisper.log_mel_spectrogram(audio=audio, n_mels=128).to(model.device)"
      ],
      "metadata": {
        "id": "D6eKUSERrKGd"
      },
      "execution_count": 4,
      "outputs": []
    },
    {
      "cell_type": "code",
      "source": [
        "_, probs = model.detect_language(mel)\n",
        "print(f\"Detected language: {max(probs, key=probs.get)}\")"
      ],
      "metadata": {
        "colab": {
          "base_uri": "https://localhost:8080/"
        },
        "id": "uw0YAroLrOv7",
        "outputId": "a2d2a36a-e388-4068-8946-9c6676e9b992"
      },
      "execution_count": 6,
      "outputs": [
        {
          "output_type": "stream",
          "name": "stdout",
          "text": [
            "Detected language: es\n"
          ]
        }
      ]
    },
    {
      "cell_type": "code",
      "source": [
        "options = whisper.DecodingOptions(language=\"es\", without_timestamps=False, fp16 = False)\n",
        "result = whisper.decode(model, mel, options)\n",
        "print(result.text)"
      ],
      "metadata": {
        "colab": {
          "base_uri": "https://localhost:8080/"
        },
        "id": "pJZzJ0R6rQxz",
        "outputId": "ddf7f4cf-a500-461f-f0f7-7a1c2108796f"
      },
      "execution_count": 9,
      "outputs": [
        {
          "output_type": "stream",
          "name": "stdout",
          "text": [
            "Aló. Aló, buenas tardes. Me vuelvo a hablar con el señor Alejandro. ¿Con él habla?\n"
          ]
        }
      ]
    },
    {
      "cell_type": "code",
      "source": [
        "result = model.transcribe(path)\n",
        "print(result[\"text\"])"
      ],
      "metadata": {
        "colab": {
          "base_uri": "https://localhost:8080/"
        },
        "id": "RAYdYzwQrYF7",
        "outputId": "b6117f05-049b-4e6b-d5fc-8d4df77c700f"
      },
      "execution_count": 8,
      "outputs": [
        {
          "output_type": "stream",
          "name": "stderr",
          "text": [
            "/usr/local/lib/python3.10/dist-packages/whisper/transcribe.py:126: UserWarning: FP16 is not supported on CPU; using FP32 instead\n",
            "  warnings.warn(\"FP16 is not supported on CPU; using FP32 instead\")\n"
          ]
        },
        {
          "output_type": "stream",
          "name": "stdout",
          "text": [
            " Aló. Aló, buenas tardes. Me vuelvo a hablar con el señor Alejandro. ¿Con él habla? Con Natalia Montoya de Sudamericana. ¿Cómo has estado? ¿De dónde, perdón? Natalia Montoya de Sudamericana. Hola, Natalia, ¿cómo estás? Muy bien, muchas gracias. Bueno, te estoy contactando para validar contigo si ya te llegó toda la documentación, la carácter de la póliza, si ya la pudiste validar, o si aún no te ha llegado para reenviártela. Sí, está quedando la píxel igual mismo día que hablamos. ¿Cómo? ¿Llegó el mismo día? Sí, llegó el mismo día. Ah, bueno, perfecto. Entonces, pues la idea es que era confirmar que el principio de evidencia de tu póliza quedó desde el 23 de marzo del 2024 para que sepas que desde ese día está protegida tu módulo de visto. Visto de una. Muchas gracias, Alejandro. Una excelente tarde. Dale, con gusto, gracias. Que estés bien, hasta luego. Chao.\n"
          ]
        }
      ]
    },
    {
      "cell_type": "code",
      "source": [
        "result"
      ],
      "metadata": {
        "colab": {
          "base_uri": "https://localhost:8080/"
        },
        "id": "euyx0k0_3lTW",
        "outputId": "a6ccbc04-f912-4583-9173-56c29ac94d7e"
      },
      "execution_count": 10,
      "outputs": [
        {
          "output_type": "execute_result",
          "data": {
            "text/plain": [
              "DecodingResult(audio_features=tensor([[-0.3846,  0.9115, -0.1582,  ...,  0.1242,  0.1342,  0.1393],\n",
              "        [-0.1496, -0.1559, -0.3587,  ..., -0.3728,  0.2270,  0.1716],\n",
              "        [-0.4964,  0.0800, -0.1265,  ..., -0.6632,  0.0040,  0.3186],\n",
              "        ...,\n",
              "        [-0.4327,  0.2478, -1.2412,  ...,  0.8252,  0.0451,  1.2123],\n",
              "        [-0.4267,  0.5125, -0.4108,  ..., -0.7937, -0.1280,  1.0115],\n",
              "        [-0.2958,  0.3161, -0.8816,  ..., -0.7437, -0.0790, -0.1836]]), language='es', language_probs=None, tokens=[50365, 967, 812, 13, 51507, 51551, 967, 812, 11, 43852, 21057, 279, 13, 51605, 51609, 1923, 20126, 3080, 257, 21014, 416, 806, 22188, 44568, 29173, 13, 51691, 51747, 3841, 9838, 11810, 42135, 30, 51789, 51815], text='Aló. Aló, buenas tardes. Me vuelvo a hablar con el señor Alejandro. ¿Con él habla?', avg_logprob=-0.4703672197129991, no_speech_prob=0.7158429622650146, temperature=0.0, compression_ratio=0.9886363636363636)"
            ]
          },
          "metadata": {},
          "execution_count": 10
        }
      ]
    }
  ]
}