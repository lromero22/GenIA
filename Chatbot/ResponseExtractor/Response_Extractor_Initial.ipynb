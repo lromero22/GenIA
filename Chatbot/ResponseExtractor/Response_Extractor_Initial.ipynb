{
  "cells": [
    {
      "cell_type": "markdown",
      "metadata": {
        "id": "f3v6sQszLy_h"
      },
      "source": [
        "# Flujo de trabajo utilizando otras practicas\n",
        "En la implementación inicial se crearon varias funciones para el proceso de extracción de mensajes. Luego de verificar la funcionalidad de la solución se decide crear un único archivo que contenga cada una de las funciones definidas y solo se llaman aquellas que sean estrictamente necesarias dependiendo de la forma en que vaya a ser usado el extractor de mensajes"
      ]
    },
    {
      "cell_type": "code",
      "execution_count": 1,
      "metadata": {
        "id": "5XdFxqlYLy_j"
      },
      "outputs": [],
      "source": [
        "# Importación de la librerias necesarias\n",
        "import requests\n",
        "from datetime import datetime\n",
        "import json\n",
        "import os\n",
        "\n",
        "# Importacion de las funciones estrictamente necesarias\n",
        "import Functions"
      ]
    },
    {
      "cell_type": "code",
      "execution_count": 2,
      "metadata": {},
      "outputs": [
        {
          "name": "stdout",
          "output_type": "stream",
          "text": [
            "Se eliminaron duplicados. 0 mensajes eliminados.\n"
          ]
        }
      ],
      "source": [
        "# Extraer y procesar los mensajes\n",
        "last_timestamp = Functions.get_last_timestamp()  # Obtener el último timestamp procesado\n",
        "messages = Functions.fetch_messages(oldest_timestamp=last_timestamp)  # Extraer mensajes desde el último timestamp\n",
        "messages_w_checkmark = Functions.get_messages_with_checkmark(messages) # Extraccion de mensajes con checkmarks\n",
        "if messages_w_checkmark:\n",
        "    Functions.process_and_store_messages(messages_w_checkmark)  # Procesar y almacenar los mensajes\n",
        "    # Guardar el timestamp del último mensaje procesado\n",
        "    Functions.save_last_timestamp(messages_w_checkmark[0]['ts'])\n",
        "\n",
        "# Eliminar duplicados del archivo histórico\n",
        "Functions.remove_duplicates()"
      ]
    }
  ],
  "metadata": {
    "colab": {
      "provenance": []
    },
    "kernelspec": {
      "display_name": "Python 3",
      "language": "python",
      "name": "python3"
    },
    "language_info": {
      "codemirror_mode": {
        "name": "ipython",
        "version": 3
      },
      "file_extension": ".py",
      "mimetype": "text/x-python",
      "name": "python",
      "nbconvert_exporter": "python",
      "pygments_lexer": "ipython3",
      "version": "3.11.4"
    }
  },
  "nbformat": 4,
  "nbformat_minor": 0
}
